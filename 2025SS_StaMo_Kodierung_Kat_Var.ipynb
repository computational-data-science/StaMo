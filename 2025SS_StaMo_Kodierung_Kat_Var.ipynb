{
 "cells": [
  {
   "cell_type": "code",
   "execution_count": 20,
   "id": "4961b769-e86e-4c63-9d9b-fe5e46d19e59",
   "metadata": {},
   "outputs": [],
   "source": [
    "import pandas as pd\n",
    "import statsmodels.formula.api as smf\n",
    "from patsy.contrasts import Sum"
   ]
  },
  {
   "cell_type": "code",
   "execution_count": 21,
   "id": "6b8083ec-6663-45f0-82ca-2ab470e59c35",
   "metadata": {},
   "outputs": [
    {
     "name": "stdout",
     "output_type": "stream",
     "text": [
      "Originaldaten:\n",
      "     y Marke\n",
      "0  100    VW\n",
      "1  110  Audi\n",
      "2  120   BMW\n",
      "3  130  Audi\n",
      "4  140   BMW\n",
      "5  150    VW\n",
      "\n"
     ]
    }
   ],
   "source": [
    "# 1. Datensatz definieren\n",
    "df = pd.DataFrame({\n",
    "    \"y\": [100, 110, 120, 130, 140, 150],\n",
    "    \"Marke\": [\"VW\", \"Audi\", \"BMW\", \"Audi\", \"BMW\", \"VW\"]\n",
    "})\n",
    "print(\"Originaldaten:\")\n",
    "print(df)\n",
    "print()"
   ]
  },
  {
   "cell_type": "code",
   "execution_count": 22,
   "id": "06742ff2-ccf3-437a-9bbe-b80bc73d491d",
   "metadata": {},
   "outputs": [
    {
     "name": "stdout",
     "output_type": "stream",
     "text": [
      "A1: Formel mit C() (Referenz = Audi):\n",
      "                            OLS Regression Results                            \n",
      "==============================================================================\n",
      "Dep. Variable:                      y   R-squared:                       0.057\n",
      "Model:                            OLS   Adj. R-squared:                 -0.571\n",
      "Method:                 Least Squares   F-statistic:                   0.09091\n",
      "Date:                Sat, 21 Jun 2025   Prob (F-statistic):              0.916\n",
      "Time:                        02:18:01   Log-Likelihood:                -25.364\n",
      "No. Observations:                   6   AIC:                             56.73\n",
      "Df Residuals:                       3   BIC:                             56.10\n",
      "Df Model:                           2                                         \n",
      "Covariance Type:            nonrobust                                         \n",
      "===================================================================================\n",
      "                      coef    std err          t      P>|t|      [0.025      0.975]\n",
      "-----------------------------------------------------------------------------------\n",
      "Intercept         120.0000     16.583      7.236      0.005      67.225     172.775\n",
      "C(Marke)[T.BMW]    10.0000     23.452      0.426      0.699     -64.635      84.635\n",
      "C(Marke)[T.VW]      5.0000     23.452      0.213      0.845     -69.635      79.635\n",
      "==============================================================================\n",
      "Omnibus:                          nan   Durbin-Watson:                   0.515\n",
      "Prob(Omnibus):                    nan   Jarque-Bera (JB):                0.354\n",
      "Skew:                          -0.000   Prob(JB):                        0.838\n",
      "Kurtosis:                       1.810   Cond. No.                         3.73\n",
      "==============================================================================\n",
      "\n",
      "Notes:\n",
      "[1] Standard Errors assume that the covariance matrix of the errors is correctly specified.\n",
      "\n"
     ]
    },
    {
     "name": "stderr",
     "output_type": "stream",
     "text": [
      "C:\\Users\\hubersi\\.conda\\envs\\stamo24\\Lib\\site-packages\\statsmodels\\stats\\stattools.py:74: ValueWarning: omni_normtest is not valid with less than 8 observations; 6 samples were given.\n",
      "  warn(\"omni_normtest is not valid with less than 8 observations; %i \"\n"
     ]
    }
   ],
   "source": [
    "# A1: Referenzkodierung mit Formel (C())\n",
    "model_a1 = smf.ols(\"y ~ C(Marke)\", data=df).fit()\n",
    "print(\"A1: Formel mit C() (Referenz = Audi):\")\n",
    "print(model_a1.summary())\n",
    "print()"
   ]
  },
  {
   "cell_type": "code",
   "execution_count": 23,
   "id": "0348733b-7337-4a50-8777-9e505a76a396",
   "metadata": {},
   "outputs": [
    {
     "name": "stdout",
     "output_type": "stream",
     "text": [
      "A2: get_dummies() + Formel (Referenz = Audi):\n",
      "                            OLS Regression Results                            \n",
      "==============================================================================\n",
      "Dep. Variable:                      y   R-squared:                       0.057\n",
      "Model:                            OLS   Adj. R-squared:                 -0.571\n",
      "Method:                 Least Squares   F-statistic:                   0.09091\n",
      "Date:                Sat, 21 Jun 2025   Prob (F-statistic):              0.916\n",
      "Time:                        02:18:01   Log-Likelihood:                -25.364\n",
      "No. Observations:                   6   AIC:                             56.73\n",
      "Df Residuals:                       3   BIC:                             56.10\n",
      "Df Model:                           2                                         \n",
      "Covariance Type:            nonrobust                                         \n",
      "===============================================================================\n",
      "                  coef    std err          t      P>|t|      [0.025      0.975]\n",
      "-------------------------------------------------------------------------------\n",
      "Intercept     120.0000     16.583      7.236      0.005      67.225     172.775\n",
      "BMW[T.True]    10.0000     23.452      0.426      0.699     -64.635      84.635\n",
      "VW[T.True]      5.0000     23.452      0.213      0.845     -69.635      79.635\n",
      "==============================================================================\n",
      "Omnibus:                          nan   Durbin-Watson:                   0.515\n",
      "Prob(Omnibus):                    nan   Jarque-Bera (JB):                0.354\n",
      "Skew:                          -0.000   Prob(JB):                        0.838\n",
      "Kurtosis:                       1.810   Cond. No.                         3.73\n",
      "==============================================================================\n",
      "\n",
      "Notes:\n",
      "[1] Standard Errors assume that the covariance matrix of the errors is correctly specified.\n",
      "\n"
     ]
    },
    {
     "name": "stderr",
     "output_type": "stream",
     "text": [
      "C:\\Users\\hubersi\\.conda\\envs\\stamo24\\Lib\\site-packages\\statsmodels\\stats\\stattools.py:74: ValueWarning: omni_normtest is not valid with less than 8 observations; 6 samples were given.\n",
      "  warn(\"omni_normtest is not valid with less than 8 observations; %i \"\n"
     ]
    }
   ],
   "source": [
    "# A2: Referenzkodierung mit get_dummies\n",
    "df_dummies = pd.get_dummies(df[\"Marke\"], drop_first=True)\n",
    "df_model = pd.concat([df[\"y\"], df_dummies], axis=1)\n",
    "model_a2 = smf.ols(\"y ~ BMW + VW\", data=df_model).fit()\n",
    "print(\"A2: get_dummies() + Formel (Referenz = Audi):\")\n",
    "print(model_a2.summary())\n",
    "print()"
   ]
  },
  {
   "cell_type": "code",
   "execution_count": 24,
   "id": "615bb738-c8b6-4585-ba26-112a9d7cc082",
   "metadata": {},
   "outputs": [
    {
     "name": "stdout",
     "output_type": "stream",
     "text": [
      "A3: Manuell erzeugte Dummies (Referenz = Audi):\n",
      "                            OLS Regression Results                            \n",
      "==============================================================================\n",
      "Dep. Variable:                      y   R-squared:                       0.057\n",
      "Model:                            OLS   Adj. R-squared:                 -0.571\n",
      "Method:                 Least Squares   F-statistic:                   0.09091\n",
      "Date:                Sat, 21 Jun 2025   Prob (F-statistic):              0.916\n",
      "Time:                        02:18:01   Log-Likelihood:                -25.364\n",
      "No. Observations:                   6   AIC:                             56.73\n",
      "Df Residuals:                       3   BIC:                             56.10\n",
      "Df Model:                           2                                         \n",
      "Covariance Type:            nonrobust                                         \n",
      "==============================================================================\n",
      "                 coef    std err          t      P>|t|      [0.025      0.975]\n",
      "------------------------------------------------------------------------------\n",
      "Intercept    120.0000     16.583      7.236      0.005      67.225     172.775\n",
      "BMW           10.0000     23.452      0.426      0.699     -64.635      84.635\n",
      "VW             5.0000     23.452      0.213      0.845     -69.635      79.635\n",
      "==============================================================================\n",
      "Omnibus:                          nan   Durbin-Watson:                   0.515\n",
      "Prob(Omnibus):                    nan   Jarque-Bera (JB):                0.354\n",
      "Skew:                          -0.000   Prob(JB):                        0.838\n",
      "Kurtosis:                       1.810   Cond. No.                         3.73\n",
      "==============================================================================\n",
      "\n",
      "Notes:\n",
      "[1] Standard Errors assume that the covariance matrix of the errors is correctly specified.\n",
      "\n"
     ]
    },
    {
     "name": "stderr",
     "output_type": "stream",
     "text": [
      "C:\\Users\\hubersi\\.conda\\envs\\stamo24\\Lib\\site-packages\\statsmodels\\stats\\stattools.py:74: ValueWarning: omni_normtest is not valid with less than 8 observations; 6 samples were given.\n",
      "  warn(\"omni_normtest is not valid with less than 8 observations; %i \"\n"
     ]
    }
   ],
   "source": [
    "# A3: Manuelle Dummy-Kodierung\n",
    "df_manual = df.copy()\n",
    "df_manual[\"BMW\"] = (df_manual[\"Marke\"] == \"BMW\").astype(int)\n",
    "df_manual[\"VW\"] = (df_manual[\"Marke\"] == \"VW\").astype(int)\n",
    "model_a3 = smf.ols(\"y ~ BMW + VW\", data=df_manual).fit()\n",
    "print(\"A3: Manuell erzeugte Dummies (Referenz = Audi):\")\n",
    "print(model_a3.summary())\n",
    "print()"
   ]
  },
  {
   "cell_type": "code",
   "execution_count": 25,
   "id": "0da159d3-df7c-49d4-b1fd-fda166c95872",
   "metadata": {},
   "outputs": [
    {
     "name": "stdout",
     "output_type": "stream",
     "text": [
      "B1: Kontrastkodierung mit patsy (Sum):\n",
      "                            OLS Regression Results                            \n",
      "==============================================================================\n",
      "Dep. Variable:                      y   R-squared:                       0.057\n",
      "Model:                            OLS   Adj. R-squared:                 -0.571\n",
      "Method:                 Least Squares   F-statistic:                   0.09091\n",
      "Date:                Sat, 21 Jun 2025   Prob (F-statistic):              0.916\n",
      "Time:                        02:18:01   Log-Likelihood:                -25.364\n",
      "No. Observations:                   6   AIC:                             56.73\n",
      "Df Residuals:                       3   BIC:                             56.10\n",
      "Df Model:                           2                                         \n",
      "Covariance Type:            nonrobust                                         \n",
      "=========================================================================================\n",
      "                            coef    std err          t      P>|t|      [0.025      0.975]\n",
      "-----------------------------------------------------------------------------------------\n",
      "Intercept               125.0000      9.574     13.056      0.001      94.530     155.470\n",
      "C(Marke, Sum)[S.Audi]    -5.0000     13.540     -0.369      0.736     -48.091      38.091\n",
      "C(Marke, Sum)[S.BMW]      5.0000     13.540      0.369      0.736     -38.091      48.091\n",
      "==============================================================================\n",
      "Omnibus:                          nan   Durbin-Watson:                   0.515\n",
      "Prob(Omnibus):                    nan   Jarque-Bera (JB):                0.354\n",
      "Skew:                           0.000   Prob(JB):                        0.838\n",
      "Kurtosis:                       1.810   Cond. No.                         1.73\n",
      "==============================================================================\n",
      "\n",
      "Notes:\n",
      "[1] Standard Errors assume that the covariance matrix of the errors is correctly specified.\n",
      "\n"
     ]
    },
    {
     "name": "stderr",
     "output_type": "stream",
     "text": [
      "C:\\Users\\hubersi\\.conda\\envs\\stamo24\\Lib\\site-packages\\statsmodels\\stats\\stattools.py:74: ValueWarning: omni_normtest is not valid with less than 8 observations; 6 samples were given.\n",
      "  warn(\"omni_normtest is not valid with less than 8 observations; %i \"\n"
     ]
    }
   ],
   "source": [
    "# B1: Kontrastkodierung mit patsy\n",
    "model_b1 = smf.ols(\"y ~ C(Marke, Sum)\", data=df).fit()\n",
    "print(\"B1: Kontrastkodierung mit patsy (Sum):\")\n",
    "print(model_b1.summary())\n",
    "print()"
   ]
  },
  {
   "cell_type": "code",
   "execution_count": 26,
   "id": "e611825a-4d03-4305-9b53-77f5e31fb4dd",
   "metadata": {},
   "outputs": [
    {
     "name": "stdout",
     "output_type": "stream",
     "text": [
      "B2: Manuelle Kontrastkodierung (Summe = 0):\n",
      "                            OLS Regression Results                            \n",
      "==============================================================================\n",
      "Dep. Variable:                      y   R-squared:                       0.057\n",
      "Model:                            OLS   Adj. R-squared:                 -0.571\n",
      "Method:                 Least Squares   F-statistic:                   0.09091\n",
      "Date:                Sat, 21 Jun 2025   Prob (F-statistic):              0.916\n",
      "Time:                        02:18:02   Log-Likelihood:                -25.364\n",
      "No. Observations:                   6   AIC:                             56.73\n",
      "Df Residuals:                       3   BIC:                             56.10\n",
      "Df Model:                           2                                         \n",
      "Covariance Type:            nonrobust                                         \n",
      "=================================================================================\n",
      "                    coef    std err          t      P>|t|      [0.025      0.975]\n",
      "---------------------------------------------------------------------------------\n",
      "Intercept       125.0000      9.574     13.056      0.001      94.530     155.470\n",
      "Kontrast_Audi    -5.0000     13.540     -0.369      0.736     -48.091      38.091\n",
      "Kontrast_VW    4.974e-14     13.540   3.67e-15      1.000     -43.091      43.091\n",
      "==============================================================================\n",
      "Omnibus:                          nan   Durbin-Watson:                   0.515\n",
      "Prob(Omnibus):                    nan   Jarque-Bera (JB):                0.354\n",
      "Skew:                          -0.000   Prob(JB):                        0.838\n",
      "Kurtosis:                       1.810   Cond. No.                         1.73\n",
      "==============================================================================\n",
      "\n",
      "Notes:\n",
      "[1] Standard Errors assume that the covariance matrix of the errors is correctly specified.\n"
     ]
    },
    {
     "name": "stderr",
     "output_type": "stream",
     "text": [
      "C:\\Users\\hubersi\\.conda\\envs\\stamo24\\Lib\\site-packages\\statsmodels\\stats\\stattools.py:74: ValueWarning: omni_normtest is not valid with less than 8 observations; 6 samples were given.\n",
      "  warn(\"omni_normtest is not valid with less than 8 observations; %i \"\n"
     ]
    }
   ],
   "source": [
    "# B2: Manuelle Kontrastkodierung\n",
    "df_contrast = df.copy()\n",
    "df_contrast[\"Kontrast_Audi\"] = df_contrast[\"Marke\"].map({\"Audi\": 1, \"BMW\": -1, \"VW\": 0})\n",
    "df_contrast[\"Kontrast_VW\"]   = df_contrast[\"Marke\"].map({\"Audi\": 0, \"BMW\": -1, \"VW\": 1})\n",
    "model_b2 = smf.ols(\"y ~ Kontrast_Audi + Kontrast_VW\", data=df_contrast).fit()\n",
    "print(\"B2: Manuelle Kontrastkodierung (Summe = 0):\")\n",
    "print(model_b2.summary())"
   ]
  },
  {
   "cell_type": "code",
   "execution_count": null,
   "id": "198a0f25-6e11-4533-8813-62a54d58d29c",
   "metadata": {},
   "outputs": [],
   "source": []
  },
  {
   "cell_type": "code",
   "execution_count": null,
   "id": "9212fb28-28c4-4b5f-be6c-545cf0551b71",
   "metadata": {},
   "outputs": [],
   "source": []
  },
  {
   "cell_type": "code",
   "execution_count": null,
   "id": "e013654c-dd6f-447a-afb4-e365786034d3",
   "metadata": {},
   "outputs": [],
   "source": []
  },
  {
   "cell_type": "code",
   "execution_count": null,
   "id": "d695f9e0-3974-4638-abac-26571373da34",
   "metadata": {},
   "outputs": [],
   "source": []
  },
  {
   "cell_type": "code",
   "execution_count": null,
   "id": "04a4ab94-3d0a-487e-9aae-3b8d0fb64ca1",
   "metadata": {},
   "outputs": [],
   "source": []
  }
 ],
 "metadata": {
  "kernelspec": {
   "display_name": "Python (stamo24)",
   "language": "python",
   "name": "stamo24"
  },
  "language_info": {
   "codemirror_mode": {
    "name": "ipython",
    "version": 3
   },
   "file_extension": ".py",
   "mimetype": "text/x-python",
   "name": "python",
   "nbconvert_exporter": "python",
   "pygments_lexer": "ipython3",
   "version": "3.12.2"
  }
 },
 "nbformat": 4,
 "nbformat_minor": 5
}
